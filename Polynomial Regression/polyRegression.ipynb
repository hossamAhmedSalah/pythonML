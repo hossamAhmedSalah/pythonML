{
 "cells": [
  {
   "cell_type": "code",
   "execution_count": 101,
   "metadata": {},
   "outputs": [],
   "source": [
    "import numpy as np\n",
    "import pandas as pd\n",
    "import matplotlib.pyplot as plt\n",
    "from sklearn.linear_model import LinearRegression\n",
    "from sklearn.preprocessing import PolynomialFeatures\n"
   ]
  },
  {
   "cell_type": "code",
   "execution_count": 102,
   "metadata": {},
   "outputs": [
    {
     "data": {
      "text/html": [
       "<div>\n",
       "<style scoped>\n",
       "    .dataframe tbody tr th:only-of-type {\n",
       "        vertical-align: middle;\n",
       "    }\n",
       "\n",
       "    .dataframe tbody tr th {\n",
       "        vertical-align: top;\n",
       "    }\n",
       "\n",
       "    .dataframe thead th {\n",
       "        text-align: right;\n",
       "    }\n",
       "</style>\n",
       "<table border=\"1\" class=\"dataframe\">\n",
       "  <thead>\n",
       "    <tr style=\"text-align: right;\">\n",
       "      <th></th>\n",
       "      <th>Var_X</th>\n",
       "      <th>Var_Y</th>\n",
       "    </tr>\n",
       "  </thead>\n",
       "  <tbody>\n",
       "    <tr>\n",
       "      <th>0</th>\n",
       "      <td>-0.33532</td>\n",
       "      <td>6.66854</td>\n",
       "    </tr>\n",
       "    <tr>\n",
       "      <th>1</th>\n",
       "      <td>0.02160</td>\n",
       "      <td>3.86398</td>\n",
       "    </tr>\n",
       "    <tr>\n",
       "      <th>2</th>\n",
       "      <td>-1.19438</td>\n",
       "      <td>5.16161</td>\n",
       "    </tr>\n",
       "    <tr>\n",
       "      <th>3</th>\n",
       "      <td>-0.65046</td>\n",
       "      <td>8.43823</td>\n",
       "    </tr>\n",
       "    <tr>\n",
       "      <th>4</th>\n",
       "      <td>-0.28001</td>\n",
       "      <td>5.57201</td>\n",
       "    </tr>\n",
       "    <tr>\n",
       "      <th>5</th>\n",
       "      <td>1.93258</td>\n",
       "      <td>-11.13270</td>\n",
       "    </tr>\n",
       "    <tr>\n",
       "      <th>6</th>\n",
       "      <td>1.22620</td>\n",
       "      <td>-5.31226</td>\n",
       "    </tr>\n",
       "    <tr>\n",
       "      <th>7</th>\n",
       "      <td>0.74727</td>\n",
       "      <td>-4.63725</td>\n",
       "    </tr>\n",
       "    <tr>\n",
       "      <th>8</th>\n",
       "      <td>3.32853</td>\n",
       "      <td>3.80650</td>\n",
       "    </tr>\n",
       "    <tr>\n",
       "      <th>9</th>\n",
       "      <td>2.87457</td>\n",
       "      <td>-6.06084</td>\n",
       "    </tr>\n",
       "    <tr>\n",
       "      <th>10</th>\n",
       "      <td>-1.48662</td>\n",
       "      <td>7.22328</td>\n",
       "    </tr>\n",
       "    <tr>\n",
       "      <th>11</th>\n",
       "      <td>0.37629</td>\n",
       "      <td>2.38887</td>\n",
       "    </tr>\n",
       "    <tr>\n",
       "      <th>12</th>\n",
       "      <td>1.43918</td>\n",
       "      <td>-7.13415</td>\n",
       "    </tr>\n",
       "    <tr>\n",
       "      <th>13</th>\n",
       "      <td>0.24183</td>\n",
       "      <td>2.00412</td>\n",
       "    </tr>\n",
       "    <tr>\n",
       "      <th>14</th>\n",
       "      <td>-2.79140</td>\n",
       "      <td>4.29794</td>\n",
       "    </tr>\n",
       "    <tr>\n",
       "      <th>15</th>\n",
       "      <td>1.08176</td>\n",
       "      <td>-5.86553</td>\n",
       "    </tr>\n",
       "    <tr>\n",
       "      <th>16</th>\n",
       "      <td>2.81555</td>\n",
       "      <td>-5.20711</td>\n",
       "    </tr>\n",
       "    <tr>\n",
       "      <th>17</th>\n",
       "      <td>0.54924</td>\n",
       "      <td>-3.52863</td>\n",
       "    </tr>\n",
       "    <tr>\n",
       "      <th>18</th>\n",
       "      <td>2.36449</td>\n",
       "      <td>-10.16202</td>\n",
       "    </tr>\n",
       "    <tr>\n",
       "      <th>19</th>\n",
       "      <td>-1.01925</td>\n",
       "      <td>5.31123</td>\n",
       "    </tr>\n",
       "  </tbody>\n",
       "</table>\n",
       "</div>"
      ],
      "text/plain": [
       "      Var_X     Var_Y\n",
       "0  -0.33532   6.66854\n",
       "1   0.02160   3.86398\n",
       "2  -1.19438   5.16161\n",
       "3  -0.65046   8.43823\n",
       "4  -0.28001   5.57201\n",
       "5   1.93258 -11.13270\n",
       "6   1.22620  -5.31226\n",
       "7   0.74727  -4.63725\n",
       "8   3.32853   3.80650\n",
       "9   2.87457  -6.06084\n",
       "10 -1.48662   7.22328\n",
       "11  0.37629   2.38887\n",
       "12  1.43918  -7.13415\n",
       "13  0.24183   2.00412\n",
       "14 -2.79140   4.29794\n",
       "15  1.08176  -5.86553\n",
       "16  2.81555  -5.20711\n",
       "17  0.54924  -3.52863\n",
       "18  2.36449 -10.16202\n",
       "19 -1.01925   5.31123"
      ]
     },
     "metadata": {},
     "output_type": "display_data"
    }
   ],
   "source": [
    "# loading the data\n",
    "data = pd.read_csv('data.csv')\n",
    "display(data)"
   ]
  },
  {
   "cell_type": "code",
   "execution_count": 103,
   "metadata": {},
   "outputs": [
    {
     "data": {
      "image/png": "[encoded data removed]",
      "text/plain": [
       "<Figure size 432x288 with 1 Axes>"
      ]
     },
     "metadata": {
      "needs_background": "light"
     },
     "output_type": "display_data"
    }
   ],
   "source": [
    "# plting the data \n",
    "data.plot(); "
   ]
  },
  {
   "cell_type": "code",
   "execution_count": 104,
   "metadata": {},
   "outputs": [
    {
     "data": {
      "text/plain": [
       "array([[-0.33532],\n",
       "       [ 0.0216 ],\n",
       "       [-1.19438],\n",
       "       [-0.65046],\n",
       "       [-0.28001],\n",
       "       [ 1.93258],\n",
       "       [ 1.2262 ],\n",
       "       [ 0.74727],\n",
       "       [ 3.32853],\n",
       "       [ 2.87457],\n",
       "       [-1.48662],\n",
       "       [ 0.37629],\n",
       "       [ 1.43918],\n",
       "       [ 0.24183],\n",
       "       [-2.7914 ],\n",
       "       [ 1.08176],\n",
       "       [ 2.81555],\n",
       "       [ 0.54924],\n",
       "       [ 2.36449],\n",
       "       [-1.01925]])"
      ]
     },
     "metadata": {},
     "output_type": "display_data"
    },
    {
     "data": {
      "text/plain": [
       "array([  6.66854,   3.86398,   5.16161,   8.43823,   5.57201, -11.1327 ,\n",
       "        -5.31226,  -4.63725,   3.8065 ,  -6.06084,   7.22328,   2.38887,\n",
       "        -7.13415,   2.00412,   4.29794,  -5.86553,  -5.20711,  -3.52863,\n",
       "       -10.16202,   5.31123])"
      ]
     },
     "metadata": {},
     "output_type": "display_data"
    }
   ],
   "source": [
    "# Spliting the data\n",
    "X = data['Var_X'].values.reshape(-1, 1)\n",
    "y = data['Var_Y'].values\n",
    "display(X, y)\n",
    "\n"
   ]
  },
  {
   "cell_type": "code",
   "execution_count": 105,
   "metadata": {},
   "outputs": [
    {
     "data": {
      "text/html": [
       "<div>\n",
       "<style scoped>\n",
       "    .dataframe tbody tr th:only-of-type {\n",
       "        vertical-align: middle;\n",
       "    }\n",
       "\n",
       "    .dataframe tbody tr th {\n",
       "        vertical-align: top;\n",
       "    }\n",
       "\n",
       "    .dataframe thead th {\n",
       "        text-align: right;\n",
       "    }\n",
       "</style>\n",
       "<table border=\"1\" class=\"dataframe\">\n",
       "  <thead>\n",
       "    <tr style=\"text-align: right;\">\n",
       "      <th></th>\n",
       "      <th>0</th>\n",
       "      <th>1</th>\n",
       "      <th>2</th>\n",
       "    </tr>\n",
       "  </thead>\n",
       "  <tbody>\n",
       "    <tr>\n",
       "      <th>0</th>\n",
       "      <td>1.0</td>\n",
       "      <td>-0.33532</td>\n",
       "      <td>0.112440</td>\n",
       "    </tr>\n",
       "    <tr>\n",
       "      <th>1</th>\n",
       "      <td>1.0</td>\n",
       "      <td>0.02160</td>\n",
       "      <td>0.000467</td>\n",
       "    </tr>\n",
       "    <tr>\n",
       "      <th>2</th>\n",
       "      <td>1.0</td>\n",
       "      <td>-1.19438</td>\n",
       "      <td>1.426544</td>\n",
       "    </tr>\n",
       "    <tr>\n",
       "      <th>3</th>\n",
       "      <td>1.0</td>\n",
       "      <td>-0.65046</td>\n",
       "      <td>0.423098</td>\n",
       "    </tr>\n",
       "    <tr>\n",
       "      <th>4</th>\n",
       "      <td>1.0</td>\n",
       "      <td>-0.28001</td>\n",
       "      <td>0.078406</td>\n",
       "    </tr>\n",
       "    <tr>\n",
       "      <th>5</th>\n",
       "      <td>1.0</td>\n",
       "      <td>1.93258</td>\n",
       "      <td>3.734865</td>\n",
       "    </tr>\n",
       "    <tr>\n",
       "      <th>6</th>\n",
       "      <td>1.0</td>\n",
       "      <td>1.22620</td>\n",
       "      <td>1.503566</td>\n",
       "    </tr>\n",
       "    <tr>\n",
       "      <th>7</th>\n",
       "      <td>1.0</td>\n",
       "      <td>0.74727</td>\n",
       "      <td>0.558412</td>\n",
       "    </tr>\n",
       "    <tr>\n",
       "      <th>8</th>\n",
       "      <td>1.0</td>\n",
       "      <td>3.32853</td>\n",
       "      <td>11.079112</td>\n",
       "    </tr>\n",
       "    <tr>\n",
       "      <th>9</th>\n",
       "      <td>1.0</td>\n",
       "      <td>2.87457</td>\n",
       "      <td>8.263153</td>\n",
       "    </tr>\n",
       "    <tr>\n",
       "      <th>10</th>\n",
       "      <td>1.0</td>\n",
       "      <td>-1.48662</td>\n",
       "      <td>2.210039</td>\n",
       "    </tr>\n",
       "    <tr>\n",
       "      <th>11</th>\n",
       "      <td>1.0</td>\n",
       "      <td>0.37629</td>\n",
       "      <td>0.141594</td>\n",
       "    </tr>\n",
       "    <tr>\n",
       "      <th>12</th>\n",
       "      <td>1.0</td>\n",
       "      <td>1.43918</td>\n",
       "      <td>2.071239</td>\n",
       "    </tr>\n",
       "    <tr>\n",
       "      <th>13</th>\n",
       "      <td>1.0</td>\n",
       "      <td>0.24183</td>\n",
       "      <td>0.058482</td>\n",
       "    </tr>\n",
       "    <tr>\n",
       "      <th>14</th>\n",
       "      <td>1.0</td>\n",
       "      <td>-2.79140</td>\n",
       "      <td>7.791914</td>\n",
       "    </tr>\n",
       "    <tr>\n",
       "      <th>15</th>\n",
       "      <td>1.0</td>\n",
       "      <td>1.08176</td>\n",
       "      <td>1.170205</td>\n",
       "    </tr>\n",
       "    <tr>\n",
       "      <th>16</th>\n",
       "      <td>1.0</td>\n",
       "      <td>2.81555</td>\n",
       "      <td>7.927322</td>\n",
       "    </tr>\n",
       "    <tr>\n",
       "      <th>17</th>\n",
       "      <td>1.0</td>\n",
       "      <td>0.54924</td>\n",
       "      <td>0.301665</td>\n",
       "    </tr>\n",
       "    <tr>\n",
       "      <th>18</th>\n",
       "      <td>1.0</td>\n",
       "      <td>2.36449</td>\n",
       "      <td>5.590813</td>\n",
       "    </tr>\n",
       "    <tr>\n",
       "      <th>19</th>\n",
       "      <td>1.0</td>\n",
       "      <td>-1.01925</td>\n",
       "      <td>1.038871</td>\n",
       "    </tr>\n",
       "  </tbody>\n",
       "</table>\n",
       "</div>"
      ],
      "text/plain": [
       "      0        1          2\n",
       "0   1.0 -0.33532   0.112440\n",
       "1   1.0  0.02160   0.000467\n",
       "2   1.0 -1.19438   1.426544\n",
       "3   1.0 -0.65046   0.423098\n",
       "4   1.0 -0.28001   0.078406\n",
       "5   1.0  1.93258   3.734865\n",
       "6   1.0  1.22620   1.503566\n",
       "7   1.0  0.74727   0.558412\n",
       "8   1.0  3.32853  11.079112\n",
       "9   1.0  2.87457   8.263153\n",
       "10  1.0 -1.48662   2.210039\n",
       "11  1.0  0.37629   0.141594\n",
       "12  1.0  1.43918   2.071239\n",
       "13  1.0  0.24183   0.058482\n",
       "14  1.0 -2.79140   7.791914\n",
       "15  1.0  1.08176   1.170205\n",
       "16  1.0  2.81555   7.927322\n",
       "17  1.0  0.54924   0.301665\n",
       "18  1.0  2.36449   5.590813\n",
       "19  1.0 -1.01925   1.038871"
      ]
     },
     "metadata": {},
     "output_type": "display_data"
    },
    {
     "data": {
      "text/html": [
       "<div>\n",
       "<style scoped>\n",
       "    .dataframe tbody tr th:only-of-type {\n",
       "        vertical-align: middle;\n",
       "    }\n",
       "\n",
       "    .dataframe tbody tr th {\n",
       "        vertical-align: top;\n",
       "    }\n",
       "\n",
       "    .dataframe thead th {\n",
       "        text-align: right;\n",
       "    }\n",
       "</style>\n",
       "<table border=\"1\" class=\"dataframe\">\n",
       "  <thead>\n",
       "    <tr style=\"text-align: right;\">\n",
       "      <th></th>\n",
       "      <th>0</th>\n",
       "      <th>1</th>\n",
       "      <th>2</th>\n",
       "      <th>3</th>\n",
       "    </tr>\n",
       "  </thead>\n",
       "  <tbody>\n",
       "    <tr>\n",
       "      <th>0</th>\n",
       "      <td>1.0</td>\n",
       "      <td>-0.33532</td>\n",
       "      <td>0.112440</td>\n",
       "      <td>-0.037703</td>\n",
       "    </tr>\n",
       "    <tr>\n",
       "      <th>1</th>\n",
       "      <td>1.0</td>\n",
       "      <td>0.02160</td>\n",
       "      <td>0.000467</td>\n",
       "      <td>0.000010</td>\n",
       "    </tr>\n",
       "    <tr>\n",
       "      <th>2</th>\n",
       "      <td>1.0</td>\n",
       "      <td>-1.19438</td>\n",
       "      <td>1.426544</td>\n",
       "      <td>-1.703835</td>\n",
       "    </tr>\n",
       "    <tr>\n",
       "      <th>3</th>\n",
       "      <td>1.0</td>\n",
       "      <td>-0.65046</td>\n",
       "      <td>0.423098</td>\n",
       "      <td>-0.275208</td>\n",
       "    </tr>\n",
       "    <tr>\n",
       "      <th>4</th>\n",
       "      <td>1.0</td>\n",
       "      <td>-0.28001</td>\n",
       "      <td>0.078406</td>\n",
       "      <td>-0.021954</td>\n",
       "    </tr>\n",
       "    <tr>\n",
       "      <th>5</th>\n",
       "      <td>1.0</td>\n",
       "      <td>1.93258</td>\n",
       "      <td>3.734865</td>\n",
       "      <td>7.217926</td>\n",
       "    </tr>\n",
       "    <tr>\n",
       "      <th>6</th>\n",
       "      <td>1.0</td>\n",
       "      <td>1.22620</td>\n",
       "      <td>1.503566</td>\n",
       "      <td>1.843673</td>\n",
       "    </tr>\n",
       "    <tr>\n",
       "      <th>7</th>\n",
       "      <td>1.0</td>\n",
       "      <td>0.74727</td>\n",
       "      <td>0.558412</td>\n",
       "      <td>0.417285</td>\n",
       "    </tr>\n",
       "    <tr>\n",
       "      <th>8</th>\n",
       "      <td>1.0</td>\n",
       "      <td>3.32853</td>\n",
       "      <td>11.079112</td>\n",
       "      <td>36.877157</td>\n",
       "    </tr>\n",
       "    <tr>\n",
       "      <th>9</th>\n",
       "      <td>1.0</td>\n",
       "      <td>2.87457</td>\n",
       "      <td>8.263153</td>\n",
       "      <td>23.753011</td>\n",
       "    </tr>\n",
       "    <tr>\n",
       "      <th>10</th>\n",
       "      <td>1.0</td>\n",
       "      <td>-1.48662</td>\n",
       "      <td>2.210039</td>\n",
       "      <td>-3.285488</td>\n",
       "    </tr>\n",
       "    <tr>\n",
       "      <th>11</th>\n",
       "      <td>1.0</td>\n",
       "      <td>0.37629</td>\n",
       "      <td>0.141594</td>\n",
       "      <td>0.053280</td>\n",
       "    </tr>\n",
       "    <tr>\n",
       "      <th>12</th>\n",
       "      <td>1.0</td>\n",
       "      <td>1.43918</td>\n",
       "      <td>2.071239</td>\n",
       "      <td>2.980886</td>\n",
       "    </tr>\n",
       "    <tr>\n",
       "      <th>13</th>\n",
       "      <td>1.0</td>\n",
       "      <td>0.24183</td>\n",
       "      <td>0.058482</td>\n",
       "      <td>0.014143</td>\n",
       "    </tr>\n",
       "    <tr>\n",
       "      <th>14</th>\n",
       "      <td>1.0</td>\n",
       "      <td>-2.79140</td>\n",
       "      <td>7.791914</td>\n",
       "      <td>-21.750349</td>\n",
       "    </tr>\n",
       "    <tr>\n",
       "      <th>15</th>\n",
       "      <td>1.0</td>\n",
       "      <td>1.08176</td>\n",
       "      <td>1.170205</td>\n",
       "      <td>1.265881</td>\n",
       "    </tr>\n",
       "    <tr>\n",
       "      <th>16</th>\n",
       "      <td>1.0</td>\n",
       "      <td>2.81555</td>\n",
       "      <td>7.927322</td>\n",
       "      <td>22.319771</td>\n",
       "    </tr>\n",
       "    <tr>\n",
       "      <th>17</th>\n",
       "      <td>1.0</td>\n",
       "      <td>0.54924</td>\n",
       "      <td>0.301665</td>\n",
       "      <td>0.165686</td>\n",
       "    </tr>\n",
       "    <tr>\n",
       "      <th>18</th>\n",
       "      <td>1.0</td>\n",
       "      <td>2.36449</td>\n",
       "      <td>5.590813</td>\n",
       "      <td>13.219421</td>\n",
       "    </tr>\n",
       "    <tr>\n",
       "      <th>19</th>\n",
       "      <td>1.0</td>\n",
       "      <td>-1.01925</td>\n",
       "      <td>1.038871</td>\n",
       "      <td>-1.058869</td>\n",
       "    </tr>\n",
       "  </tbody>\n",
       "</table>\n",
       "</div>"
      ],
      "text/plain": [
       "      0        1          2          3\n",
       "0   1.0 -0.33532   0.112440  -0.037703\n",
       "1   1.0  0.02160   0.000467   0.000010\n",
       "2   1.0 -1.19438   1.426544  -1.703835\n",
       "3   1.0 -0.65046   0.423098  -0.275208\n",
       "4   1.0 -0.28001   0.078406  -0.021954\n",
       "5   1.0  1.93258   3.734865   7.217926\n",
       "6   1.0  1.22620   1.503566   1.843673\n",
       "7   1.0  0.74727   0.558412   0.417285\n",
       "8   1.0  3.32853  11.079112  36.877157\n",
       "9   1.0  2.87457   8.263153  23.753011\n",
       "10  1.0 -1.48662   2.210039  -3.285488\n",
       "11  1.0  0.37629   0.141594   0.053280\n",
       "12  1.0  1.43918   2.071239   2.980886\n",
       "13  1.0  0.24183   0.058482   0.014143\n",
       "14  1.0 -2.79140   7.791914 -21.750349\n",
       "15  1.0  1.08176   1.170205   1.265881\n",
       "16  1.0  2.81555   7.927322  22.319771\n",
       "17  1.0  0.54924   0.301665   0.165686\n",
       "18  1.0  2.36449   5.590813  13.219421\n",
       "19  1.0 -1.01925   1.038871  -1.058869"
      ]
     },
     "metadata": {},
     "output_type": "display_data"
    },
    {
     "data": {
      "text/html": [
       "<div>\n",
       "<style scoped>\n",
       "    .dataframe tbody tr th:only-of-type {\n",
       "        vertical-align: middle;\n",
       "    }\n",
       "\n",
       "    .dataframe tbody tr th {\n",
       "        vertical-align: top;\n",
       "    }\n",
       "\n",
       "    .dataframe thead th {\n",
       "        text-align: right;\n",
       "    }\n",
       "</style>\n",
       "<table border=\"1\" class=\"dataframe\">\n",
       "  <thead>\n",
       "    <tr style=\"text-align: right;\">\n",
       "      <th></th>\n",
       "      <th>0</th>\n",
       "      <th>1</th>\n",
       "      <th>2</th>\n",
       "      <th>3</th>\n",
       "      <th>4</th>\n",
       "    </tr>\n",
       "  </thead>\n",
       "  <tbody>\n",
       "    <tr>\n",
       "      <th>0</th>\n",
       "      <td>1.0</td>\n",
       "      <td>-0.33532</td>\n",
       "      <td>0.112440</td>\n",
       "      <td>-0.037703</td>\n",
       "      <td>1.264264e-02</td>\n",
       "    </tr>\n",
       "    <tr>\n",
       "      <th>1</th>\n",
       "      <td>1.0</td>\n",
       "      <td>0.02160</td>\n",
       "      <td>0.000467</td>\n",
       "      <td>0.000010</td>\n",
       "      <td>2.176782e-07</td>\n",
       "    </tr>\n",
       "    <tr>\n",
       "      <th>2</th>\n",
       "      <td>1.0</td>\n",
       "      <td>-1.19438</td>\n",
       "      <td>1.426544</td>\n",
       "      <td>-1.703835</td>\n",
       "      <td>2.035027e+00</td>\n",
       "    </tr>\n",
       "    <tr>\n",
       "      <th>3</th>\n",
       "      <td>1.0</td>\n",
       "      <td>-0.65046</td>\n",
       "      <td>0.423098</td>\n",
       "      <td>-0.275208</td>\n",
       "      <td>1.790121e-01</td>\n",
       "    </tr>\n",
       "    <tr>\n",
       "      <th>4</th>\n",
       "      <td>1.0</td>\n",
       "      <td>-0.28001</td>\n",
       "      <td>0.078406</td>\n",
       "      <td>-0.021954</td>\n",
       "      <td>6.147438e-03</td>\n",
       "    </tr>\n",
       "    <tr>\n",
       "      <th>5</th>\n",
       "      <td>1.0</td>\n",
       "      <td>1.93258</td>\n",
       "      <td>3.734865</td>\n",
       "      <td>7.217926</td>\n",
       "      <td>1.394922e+01</td>\n",
       "    </tr>\n",
       "    <tr>\n",
       "      <th>6</th>\n",
       "      <td>1.0</td>\n",
       "      <td>1.22620</td>\n",
       "      <td>1.503566</td>\n",
       "      <td>1.843673</td>\n",
       "      <td>2.260712e+00</td>\n",
       "    </tr>\n",
       "    <tr>\n",
       "      <th>7</th>\n",
       "      <td>1.0</td>\n",
       "      <td>0.74727</td>\n",
       "      <td>0.558412</td>\n",
       "      <td>0.417285</td>\n",
       "      <td>3.118245e-01</td>\n",
       "    </tr>\n",
       "    <tr>\n",
       "      <th>8</th>\n",
       "      <td>1.0</td>\n",
       "      <td>3.32853</td>\n",
       "      <td>11.079112</td>\n",
       "      <td>36.877157</td>\n",
       "      <td>1.227467e+02</td>\n",
       "    </tr>\n",
       "    <tr>\n",
       "      <th>9</th>\n",
       "      <td>1.0</td>\n",
       "      <td>2.87457</td>\n",
       "      <td>8.263153</td>\n",
       "      <td>23.753011</td>\n",
       "      <td>6.827969e+01</td>\n",
       "    </tr>\n",
       "    <tr>\n",
       "      <th>10</th>\n",
       "      <td>1.0</td>\n",
       "      <td>-1.48662</td>\n",
       "      <td>2.210039</td>\n",
       "      <td>-3.285488</td>\n",
       "      <td>4.884272e+00</td>\n",
       "    </tr>\n",
       "    <tr>\n",
       "      <th>11</th>\n",
       "      <td>1.0</td>\n",
       "      <td>0.37629</td>\n",
       "      <td>0.141594</td>\n",
       "      <td>0.053280</td>\n",
       "      <td>2.004891e-02</td>\n",
       "    </tr>\n",
       "    <tr>\n",
       "      <th>12</th>\n",
       "      <td>1.0</td>\n",
       "      <td>1.43918</td>\n",
       "      <td>2.071239</td>\n",
       "      <td>2.980886</td>\n",
       "      <td>4.290031e+00</td>\n",
       "    </tr>\n",
       "    <tr>\n",
       "      <th>13</th>\n",
       "      <td>1.0</td>\n",
       "      <td>0.24183</td>\n",
       "      <td>0.058482</td>\n",
       "      <td>0.014143</td>\n",
       "      <td>3.420115e-03</td>\n",
       "    </tr>\n",
       "    <tr>\n",
       "      <th>14</th>\n",
       "      <td>1.0</td>\n",
       "      <td>-2.79140</td>\n",
       "      <td>7.791914</td>\n",
       "      <td>-21.750349</td>\n",
       "      <td>6.071392e+01</td>\n",
       "    </tr>\n",
       "    <tr>\n",
       "      <th>15</th>\n",
       "      <td>1.0</td>\n",
       "      <td>1.08176</td>\n",
       "      <td>1.170205</td>\n",
       "      <td>1.265881</td>\n",
       "      <td>1.369379e+00</td>\n",
       "    </tr>\n",
       "    <tr>\n",
       "      <th>16</th>\n",
       "      <td>1.0</td>\n",
       "      <td>2.81555</td>\n",
       "      <td>7.927322</td>\n",
       "      <td>22.319771</td>\n",
       "      <td>6.284243e+01</td>\n",
       "    </tr>\n",
       "    <tr>\n",
       "      <th>17</th>\n",
       "      <td>1.0</td>\n",
       "      <td>0.54924</td>\n",
       "      <td>0.301665</td>\n",
       "      <td>0.165686</td>\n",
       "      <td>9.100152e-02</td>\n",
       "    </tr>\n",
       "    <tr>\n",
       "      <th>18</th>\n",
       "      <td>1.0</td>\n",
       "      <td>2.36449</td>\n",
       "      <td>5.590813</td>\n",
       "      <td>13.219421</td>\n",
       "      <td>3.125719e+01</td>\n",
       "    </tr>\n",
       "    <tr>\n",
       "      <th>19</th>\n",
       "      <td>1.0</td>\n",
       "      <td>-1.01925</td>\n",
       "      <td>1.038871</td>\n",
       "      <td>-1.058869</td>\n",
       "      <td>1.079252e+00</td>\n",
       "    </tr>\n",
       "  </tbody>\n",
       "</table>\n",
       "</div>"
      ],
      "text/plain": [
       "      0        1          2          3             4\n",
       "0   1.0 -0.33532   0.112440  -0.037703  1.264264e-02\n",
       "1   1.0  0.02160   0.000467   0.000010  2.176782e-07\n",
       "2   1.0 -1.19438   1.426544  -1.703835  2.035027e+00\n",
       "3   1.0 -0.65046   0.423098  -0.275208  1.790121e-01\n",
       "4   1.0 -0.28001   0.078406  -0.021954  6.147438e-03\n",
       "5   1.0  1.93258   3.734865   7.217926  1.394922e+01\n",
       "6   1.0  1.22620   1.503566   1.843673  2.260712e+00\n",
       "7   1.0  0.74727   0.558412   0.417285  3.118245e-01\n",
       "8   1.0  3.32853  11.079112  36.877157  1.227467e+02\n",
       "9   1.0  2.87457   8.263153  23.753011  6.827969e+01\n",
       "10  1.0 -1.48662   2.210039  -3.285488  4.884272e+00\n",
       "11  1.0  0.37629   0.141594   0.053280  2.004891e-02\n",
       "12  1.0  1.43918   2.071239   2.980886  4.290031e+00\n",
       "13  1.0  0.24183   0.058482   0.014143  3.420115e-03\n",
       "14  1.0 -2.79140   7.791914 -21.750349  6.071392e+01\n",
       "15  1.0  1.08176   1.170205   1.265881  1.369379e+00\n",
       "16  1.0  2.81555   7.927322  22.319771  6.284243e+01\n",
       "17  1.0  0.54924   0.301665   0.165686  9.100152e-02\n",
       "18  1.0  2.36449   5.590813  13.219421  3.125719e+01\n",
       "19  1.0 -1.01925   1.038871  -1.058869  1.079252e+00"
      ]
     },
     "metadata": {},
     "output_type": "display_data"
    }
   ],
   "source": [
    "# Create polynomial features \n",
    "# default degree is 2\n",
    "poly_features_D2 = PolynomialFeatures()\n",
    "poly_features_D3 = PolynomialFeatures(3)\n",
    "poly_features_D4 = PolynomialFeatures(4)\n",
    "poly_features_D5 = PolynomialFeatures(5)\n",
    "\n",
    "\n",
    "\n",
    "x2 = poly_features_D2.fit_transform(X)\n",
    "x3 = poly_features_D3.fit_transform(X)\n",
    "x4 = poly_features_D4.fit_transform(X)\n",
    "x5 = poly_features_D5.fit_transform(X)\n",
    "# displaying x2 , x3 and x4 just for example\n",
    "display(pd.DataFrame(x2), pd.DataFrame(x3), pd.DataFrame(x4) )"
   ]
  },
  {
   "cell_type": "code",
   "execution_count": 106,
   "metadata": {},
   "outputs": [
    {
     "data": {
      "text/plain": [
       "LinearRegression()"
      ]
     },
     "execution_count": 106,
     "metadata": {},
     "output_type": "execute_result"
    }
   ],
   "source": [
    "# showing the different degrees \n",
    "# 1. the Linear\n",
    "Linear = LinearRegression()\n",
    "Linear.fit(X, y)\n"
   ]
  },
  {
   "cell_type": "code",
   "execution_count": 107,
   "metadata": {},
   "outputs": [
    {
     "data": {
      "text/plain": [
       "array([ 2.21611784,  1.24911677,  4.54356358,  3.06992462,  2.06626681,\n",
       "       -3.92828908, -2.01449828, -0.71693631, -7.71032746, -6.48041655,\n",
       "        5.33532754,  0.28815743, -2.59152363,  0.65244904,  8.87035962,\n",
       "       -1.62316792, -6.32051404, -0.1804149 , -5.09846008,  4.069085  ])"
      ]
     },
     "execution_count": 107,
     "metadata": {},
     "output_type": "execute_result"
    }
   ],
   "source": [
    "# I know I didn't split the data into trainning and testing \n",
    "# as this is just a test \n",
    "y1 = Linear.predict(X)\n",
    "y1"
   ]
  },
  {
   "cell_type": "code",
   "execution_count": 108,
   "metadata": {},
   "outputs": [
    {
     "data": {
      "image/png": "[encoded data removed]",
      "text/plain": [
       "<Figure size 432x288 with 1 Axes>"
      ]
     },
     "metadata": {
      "needs_background": "light"
     },
     "output_type": "display_data"
    }
   ],
   "source": [
    "pd.DataFrame({'y1': y1, 'y': y}).plot();"
   ]
  },
  {
   "cell_type": "code",
   "execution_count": 109,
   "metadata": {},
   "outputs": [
    {
     "data": {
      "text/plain": [
       "array([ 1.84578332,  0.77610159,  4.64343625,  2.83547842,  1.67645806,\n",
       "       -4.0255836 , -2.43238113, -1.23095514, -6.54737621, -5.81861156,\n",
       "        5.66700621, -0.23299811, -2.93518632,  0.14321961, 10.6819701 ,\n",
       "       -2.08036143, -5.71739853, -0.70555706, -4.89474699,  4.04752251])"
      ]
     },
     "execution_count": 109,
     "metadata": {},
     "output_type": "execute_result"
    }
   ],
   "source": [
    "Linear.fit(x2, y)\n",
    "y2 =Linear.predict(x2)\n",
    "y2"
   ]
  },
  {
   "cell_type": "code",
   "execution_count": 110,
   "metadata": {},
   "outputs": [
    {
     "data": {
      "image/png": "[encoded data removed]",
      "text/plain": [
       "<Figure size 432x288 with 1 Axes>"
      ]
     },
     "metadata": {
      "needs_background": "light"
     },
     "output_type": "display_data"
    }
   ],
   "source": [
    "pd.DataFrame({'y2': y2, 'y': y}).plot();"
   ]
  },
  {
   "cell_type": "code",
   "execution_count": 111,
   "metadata": {},
   "outputs": [
    {
     "data": {
      "text/plain": [
       "array([ 4.48222683,  1.88230375,  9.03265795,  6.52198786,  4.09463527,\n",
       "       -8.49556163, -6.39672831, -3.49169832,  0.95776844, -4.65092976,\n",
       "        9.63289367, -0.80305802, -7.36089053,  0.21346967,  2.43039622,\n",
       "       -5.6145034 , -5.17972144, -2.08593807, -7.8719917 ,  8.3985015 ])"
      ]
     },
     "execution_count": 111,
     "metadata": {},
     "output_type": "execute_result"
    }
   ],
   "source": [
    "Linear.fit(x3, y)\n",
    "y3 =Linear.predict(x3)\n",
    "y3"
   ]
  },
  {
   "cell_type": "code",
   "execution_count": 112,
   "metadata": {},
   "outputs": [
    {
     "data": {
      "image/png": "[encoded data removed]",
      "text/plain": [
       "<Figure size 432x288 with 1 Axes>"
      ]
     },
     "metadata": {
      "needs_background": "light"
     },
     "output_type": "display_data"
    }
   ],
   "source": [
    "pd.DataFrame({'y3': y3, 'y': y}).plot();"
   ]
  },
  {
   "cell_type": "code",
   "execution_count": 113,
   "metadata": {},
   "outputs": [
    {
     "data": {
      "text/plain": [
       "array([  5.19641403,   3.23885556,   7.00399695,   6.34330534,\n",
       "         4.93719303, -10.48940158,  -6.37026049,  -2.34493858,\n",
       "         4.37232952,  -5.7001477 ,   6.7478636 ,   0.7092552 ,\n",
       "        -7.96880783,   1.72612006,   4.12622364,  -5.19188792,\n",
       "        -6.55748759,  -0.67958875, -10.36912438,   6.96590788])"
      ]
     },
     "execution_count": 113,
     "metadata": {},
     "output_type": "execute_result"
    }
   ],
   "source": [
    "Linear.fit(x4, y)\n",
    "y4 =Linear.predict(x4)\n",
    "y4"
   ]
  },
  {
   "cell_type": "code",
   "execution_count": 114,
   "metadata": {},
   "outputs": [
    {
     "data": {
      "image/png": "[encoded data removed]",
      "text/plain": [
       "<Figure size 432x288 with 1 Axes>"
      ]
     },
     "metadata": {
      "needs_background": "light"
     },
     "output_type": "display_data"
    }
   ],
   "source": [
    "pd.DataFrame({'y4': y4, 'y': y}).plot();"
   ]
  },
  {
   "cell_type": "code",
   "execution_count": 115,
   "metadata": {},
   "outputs": [
    {
     "data": {
      "text/plain": [
       "array([  5.70182022,   3.60634262,   6.73006389,   6.75796177,\n",
       "         5.4361751 , -10.63037595,  -6.87602358,  -2.60656549,\n",
       "         3.64317897,  -5.12968991,   5.90070852,   0.78268161,\n",
       "        -8.46091817,   1.92155724,   4.31346811,  -5.65979089,\n",
       "        -5.95116748,  -0.76792072,  -9.99727319,   6.98158735])"
      ]
     },
     "execution_count": 115,
     "metadata": {},
     "output_type": "execute_result"
    }
   ],
   "source": [
    "Linear.fit(x5, y)\n",
    "y5 =Linear.predict(x5)\n",
    "y5"
   ]
  },
  {
   "cell_type": "code",
   "execution_count": 116,
   "metadata": {},
   "outputs": [
    {
     "data": {
      "image/png": "[encoded data removed]",
      "text/plain": [
       "<Figure size 432x288 with 1 Axes>"
      ]
     },
     "metadata": {
      "needs_background": "light"
     },
     "output_type": "display_data"
    }
   ],
   "source": [
    "pd.DataFrame({'y5': y5, 'y': y}).plot();\n",
    "# welcome to the overfitting area 👋 "
   ]
  }
 ],
 "metadata": {
  "kernelspec": {
   "display_name": "base",
   "language": "python",
   "name": "python3"
  },
  "language_info": {
   "codemirror_mode": {
    "name": "ipython",
    "version": 3
   },
   "file_extension": ".py",
   "mimetype": "text/x-python",
   "name": "python",
   "nbconvert_exporter": "python",
   "pygments_lexer": "ipython3",
   "version": "3.9.12"
  },
  "orig_nbformat": 4,
  "vscode": {
   "interpreter": {
    "hash": "4b9c4346514f1c75c3f75b46c44207535026684b90417d2a4d1ec0e73da03737"
   }
  }
 },
 "nbformat": 4,
 "nbformat_minor": 2
}
